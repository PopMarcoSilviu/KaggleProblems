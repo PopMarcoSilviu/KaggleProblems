{
 "cells": [
  {
   "cell_type": "code",
   "execution_count": 1,
   "id": "4a56c553",
   "metadata": {
    "_cell_guid": "b1076dfc-b9ad-4769-8c92-a6c4dae69d19",
    "_uuid": "8f2839f25d086af736a60e9eeb907d3b93b6e0e5",
    "execution": {
     "iopub.execute_input": "2022-04-10T06:14:56.363475Z",
     "iopub.status.busy": "2022-04-10T06:14:56.360021Z",
     "iopub.status.idle": "2022-04-10T06:14:57.519599Z",
     "shell.execute_reply": "2022-04-10T06:14:57.520148Z",
     "shell.execute_reply.started": "2022-02-21T14:21:41.126796Z"
    },
    "papermill": {
     "duration": 1.183161,
     "end_time": "2022-04-10T06:14:57.520521",
     "exception": false,
     "start_time": "2022-04-10T06:14:56.337360",
     "status": "completed"
    },
    "tags": []
   },
   "outputs": [
    {
     "name": "stdout",
     "output_type": "stream",
     "text": [
      "/kaggle/input/house-prices-advanced-regression-techniques/sample_submission.csv\n",
      "/kaggle/input/house-prices-advanced-regression-techniques/data_description.txt\n",
      "/kaggle/input/house-prices-advanced-regression-techniques/train.csv\n",
      "/kaggle/input/house-prices-advanced-regression-techniques/test.csv\n"
     ]
    }
   ],
   "source": [
    "# This Python 3 environment comes with many helpful analytics libraries installed\n",
    "# It is defined by the kaggle/python Docker image: https://github.com/kaggle/docker-python\n",
    "# For example, here's several helpful packages to load\n",
    "\n",
    "import numpy as np # linear algebra\n",
    "import pandas as pd # data processing, CSV file I/O (e.g. pd.read_csv)\n",
    "import matplotlib.pyplot as plt\n",
    "import seaborn as sns\n",
    "# Input data files are available in the read-only \"../input/\" directory\n",
    "# For example, running this (by clicking run or pressing Shift+Enter) will list all files under the input directory\n",
    "\n",
    "import os\n",
    "for dirname, _, filenames in os.walk('/kaggle/input'):\n",
    "    for filename in filenames:\n",
    "        print(os.path.join(dirname, filename))\n",
    "        \n",
    "        \n",
    "\n",
    "# You can write up to 20GB to the current directory (/kaggle/working/) that gets preserved as output when you create a version using \"Save & Run All\" \n",
    "# You can also write temporary files to /kaggle/temp/, but they won't be saved outside of the current session"
   ]
  },
  {
   "cell_type": "code",
   "execution_count": 2,
   "id": "86e07516",
   "metadata": {
    "execution": {
     "iopub.execute_input": "2022-04-10T06:14:57.553522Z",
     "iopub.status.busy": "2022-04-10T06:14:57.552410Z",
     "iopub.status.idle": "2022-04-10T06:14:57.634457Z",
     "shell.execute_reply": "2022-04-10T06:14:57.634977Z",
     "shell.execute_reply.started": "2022-02-21T14:21:42.282988Z"
    },
    "papermill": {
     "duration": 0.100095,
     "end_time": "2022-04-10T06:14:57.635204",
     "exception": false,
     "start_time": "2022-04-10T06:14:57.535109",
     "status": "completed"
    },
    "tags": []
   },
   "outputs": [],
   "source": [
    "train_path = '../input/house-prices-advanced-regression-techniques/train.csv'\n",
    "test_path = '../input/house-prices-advanced-regression-techniques/test.csv'\n",
    "\n",
    "\n",
    "\n",
    "train_data = pd.read_csv(train_path)\n",
    "test_data = pd.read_csv(test_path)\n"
   ]
  },
  {
   "cell_type": "code",
   "execution_count": 3,
   "id": "3ac1d526",
   "metadata": {
    "execution": {
     "iopub.execute_input": "2022-04-10T06:14:57.667478Z",
     "iopub.status.busy": "2022-04-10T06:14:57.666278Z",
     "iopub.status.idle": "2022-04-10T06:14:58.046496Z",
     "shell.execute_reply": "2022-04-10T06:14:58.045889Z",
     "shell.execute_reply.started": "2022-02-21T14:21:42.364763Z"
    },
    "papermill": {
     "duration": 0.397718,
     "end_time": "2022-04-10T06:14:58.046669",
     "exception": false,
     "start_time": "2022-04-10T06:14:57.648951",
     "status": "completed"
    },
    "tags": []
   },
   "outputs": [],
   "source": [
    "from sklearn.preprocessing import normalize\n",
    "\n",
    "\n",
    "def process_data(data):\n",
    "\n",
    "    num_col = data.select_dtypes(include = ['float64', 'int64']).columns\n",
    "    nnum_col = data.select_dtypes(include =['object']).columns\n",
    "    \n",
    "\n",
    "    \n",
    "    data.loc[:, num_col] = data.select_dtypes(include = ['float64', 'int64'])\\\n",
    "        .fillna(value = data.select_dtypes(include = ['float64', 'int64']).median())\n",
    "    data.loc[:, nnum_col] = data.select_dtypes(include =['object']).fillna(value = 'N')\n",
    "\n",
    "    for label, content in data.select_dtypes(include = ['float64', 'int64']).items():\n",
    "        if label == 'Id' or label =='SalePrice':\n",
    "            continue\n",
    "\n",
    "        meanV = content.mean()\n",
    "        stdV = content.std()\n",
    "        data[label] = (content - meanV)/stdV\n",
    "\n",
    "    \n",
    "    column_names = data.select_dtypes(include =['object']).columns\n",
    "    data = pd.get_dummies(data, columns = column_names)\n",
    "\n",
    "    return data\n",
    "\n",
    "\n",
    "train_data = process_data(train_data)\n",
    "test_data = process_data(test_data)\n",
    "\n",
    "missing_in_train = []\n",
    "missing_in_test  = []\n",
    "\n",
    "for col in test_data.columns:\n",
    "    if col not in train_data.columns:\n",
    "        missing_in_train.append(col)\n",
    "        \n",
    "for col in train_data.columns:\n",
    "    if col not in test_data.columns and col != 'SalePrice':\n",
    "        missing_in_test.append(col)      \n",
    "        \n",
    "\n",
    "# print(missing_in_train)\n",
    "# print(missing_in_test)\n",
    "\n",
    "train_data[missing_in_train] = 0\n",
    "test_data[missing_in_test] = 0\n"
   ]
  },
  {
   "cell_type": "code",
   "execution_count": 4,
   "id": "ac0e9cb3",
   "metadata": {
    "execution": {
     "iopub.execute_input": "2022-04-10T06:14:58.078713Z",
     "iopub.status.busy": "2022-04-10T06:14:58.077543Z",
     "iopub.status.idle": "2022-04-10T06:14:58.491241Z",
     "shell.execute_reply": "2022-04-10T06:14:58.491816Z",
     "shell.execute_reply.started": "2022-02-21T14:21:42.736027Z"
    },
    "papermill": {
     "duration": 0.431617,
     "end_time": "2022-04-10T06:14:58.492015",
     "exception": false,
     "start_time": "2022-04-10T06:14:58.060398",
     "status": "completed"
    },
    "tags": []
   },
   "outputs": [
    {
     "data": {
      "text/plain": [
       "0          1\n",
       "1          2\n",
       "2          3\n",
       "3          4\n",
       "4          5\n",
       "        ... \n",
       "1455    1456\n",
       "1456    1457\n",
       "1457    1458\n",
       "1458    1459\n",
       "1459    1460\n",
       "Name: Id, Length: 1460, dtype: int64"
      ]
     },
     "execution_count": 4,
     "metadata": {},
     "output_type": "execute_result"
    }
   ],
   "source": [
    "import math\n",
    "\n",
    "\n",
    "corr_epsilon= 0.0\n",
    "t = train_data.corr().abs()['SalePrice'].sort_values(ascending=False)\n",
    "features1 =t[t>corr_epsilon].index\n",
    "features2 = t[t.isnull()].index\n",
    "features = features1.union(features2)\n",
    "# features = features.insert(1,'Id')\n",
    "\n",
    "\n",
    "train_data = train_data[features]\n",
    "test_data = test_data[features[features!='SalePrice']]\n",
    "\n",
    "# train_data.head()\n",
    "train_data.Id"
   ]
  },
  {
   "cell_type": "code",
   "execution_count": 5,
   "id": "df3bc531",
   "metadata": {
    "execution": {
     "iopub.execute_input": "2022-04-10T06:14:58.525470Z",
     "iopub.status.busy": "2022-04-10T06:14:58.524722Z",
     "iopub.status.idle": "2022-04-10T06:14:58.582714Z",
     "shell.execute_reply": "2022-04-10T06:14:58.583216Z",
     "shell.execute_reply.started": "2022-02-21T14:21:43.149281Z"
    },
    "papermill": {
     "duration": 0.075802,
     "end_time": "2022-04-10T06:14:58.583448",
     "exception": false,
     "start_time": "2022-04-10T06:14:58.507646",
     "status": "completed"
    },
    "tags": []
   },
   "outputs": [],
   "source": [
    "from sklearn.model_selection import cross_val_score\n",
    "from sklearn.preprocessing import StandardScaler\n",
    "\n",
    "\n",
    "# train, xtest, ytrain, ytest = train_test_split(X, y.iloc[:,1], test_size=1/3,\n",
    "#   random_state=85, stratify=y.iloc[:,1])\n",
    "\n",
    "X_train = train_data.loc[:, train_data.columns!='SalePrice']\n",
    "y_train = train_data.SalePrice\n",
    "\n",
    "X_test = test_data\n",
    "\n"
   ]
  },
  {
   "cell_type": "code",
   "execution_count": 6,
   "id": "e609b796",
   "metadata": {
    "execution": {
     "iopub.execute_input": "2022-04-10T06:14:58.614993Z",
     "iopub.status.busy": "2022-04-10T06:14:58.614245Z",
     "iopub.status.idle": "2022-04-10T06:14:58.701203Z",
     "shell.execute_reply": "2022-04-10T06:14:58.701769Z",
     "shell.execute_reply.started": "2022-02-21T14:21:43.21229Z"
    },
    "papermill": {
     "duration": 0.104847,
     "end_time": "2022-04-10T06:14:58.702001",
     "exception": false,
     "start_time": "2022-04-10T06:14:58.597154",
     "status": "completed"
    },
    "tags": []
   },
   "outputs": [],
   "source": [
    "from sklearn import svm\n",
    "from sklearn.pipeline import make_pipeline\n",
    "\n",
    "\n",
    "# svm_model= make_pipeline(StandardScaler(), svm.SVR())\n",
    "# cv = cross_val_score(svm_model,X_train,y_train,cv=5, scoring ='neg_root_mean_squared_error')\n",
    "# print(cv)\n",
    "# print(cv.mean())\n",
    "\n",
    "# svm_model.fit(X_train, y_train)\n",
    "# svm_model.predict(X_test)"
   ]
  },
  {
   "cell_type": "code",
   "execution_count": 7,
   "id": "5accc6ef",
   "metadata": {
    "execution": {
     "iopub.execute_input": "2022-04-10T06:14:58.734766Z",
     "iopub.status.busy": "2022-04-10T06:14:58.733985Z",
     "iopub.status.idle": "2022-04-10T06:14:58.736638Z",
     "shell.execute_reply": "2022-04-10T06:14:58.737169Z",
     "shell.execute_reply.started": "2022-02-21T14:21:43.302962Z"
    },
    "papermill": {
     "duration": 0.021662,
     "end_time": "2022-04-10T06:14:58.737419",
     "exception": false,
     "start_time": "2022-04-10T06:14:58.715757",
     "status": "completed"
    },
    "tags": []
   },
   "outputs": [],
   "source": [
    "from sklearn.linear_model import SGDRegressor\n",
    "\n",
    "\n",
    "\n",
    "# sgdr = make_pipeline(StandardScaler(), SGDRegressor(max_iter=1e3, tol=1e-3))\n",
    "# cv = cross_val_score(sgdr,X_train,y_train,cv=5, scoring ='neg_root_mean_squared_error')\n",
    "# print(cv)\n",
    "# print(cv.mean()) "
   ]
  },
  {
   "cell_type": "code",
   "execution_count": 8,
   "id": "705cf9b6",
   "metadata": {
    "execution": {
     "iopub.execute_input": "2022-04-10T06:14:58.769956Z",
     "iopub.status.busy": "2022-04-10T06:14:58.769115Z",
     "iopub.status.idle": "2022-04-10T06:14:58.887607Z",
     "shell.execute_reply": "2022-04-10T06:14:58.886833Z",
     "shell.execute_reply.started": "2022-02-21T14:21:43.309262Z"
    },
    "papermill": {
     "duration": 0.136169,
     "end_time": "2022-04-10T06:14:58.887768",
     "exception": false,
     "start_time": "2022-04-10T06:14:58.751599",
     "status": "completed"
    },
    "tags": []
   },
   "outputs": [],
   "source": [
    "from sklearn.ensemble import GradientBoostingRegressor\n",
    "\n",
    "# GBR = make_pipeline(StandardScaler(),\\\n",
    "#                     GradientBoostingRegressor(n_estimators = 100, learning_rate =0.1, max_depth =2 , random_state =0))\n",
    "\n",
    "# cv = cross_val_score(GBR, X_train, y_train, cv=5, scoring = 'neg_root_mean_squared_error')\n",
    "# print(cv)\n",
    "# print(cv.mean()) \n"
   ]
  },
  {
   "cell_type": "code",
   "execution_count": 9,
   "id": "319c79f8",
   "metadata": {
    "execution": {
     "iopub.execute_input": "2022-04-10T06:14:58.924466Z",
     "iopub.status.busy": "2022-04-10T06:14:58.923763Z",
     "iopub.status.idle": "2022-04-10T06:14:58.925096Z",
     "shell.execute_reply": "2022-04-10T06:14:58.925663Z",
     "shell.execute_reply.started": "2022-02-21T14:21:43.441069Z"
    },
    "papermill": {
     "duration": 0.021355,
     "end_time": "2022-04-10T06:14:58.925851",
     "exception": false,
     "start_time": "2022-04-10T06:14:58.904496",
     "status": "completed"
    },
    "tags": []
   },
   "outputs": [],
   "source": [
    "def performance(classifier, model_name):\n",
    "    print(model_name)\n",
    "    print('Best Score: ' + str(classifier.best_score_) )\n",
    "    print('Best Parameters: ' + str(classifier.best_params_))\n",
    "    print()"
   ]
  },
  {
   "cell_type": "markdown",
   "id": "555f0882",
   "metadata": {
    "papermill": {
     "duration": 0.012982,
     "end_time": "2022-04-10T06:14:58.952356",
     "exception": false,
     "start_time": "2022-04-10T06:14:58.939374",
     "status": "completed"
    },
    "tags": []
   },
   "source": [
    "Initial parameters models, scoring = neg root mean squared error:\n",
    "* SGDRegressor  -16775592\n",
    "* Support Vector Regression -81141\n",
    "* GradientBoostingRegressor -27360"
   ]
  },
  {
   "cell_type": "code",
   "execution_count": 10,
   "id": "c14e82a8",
   "metadata": {
    "execution": {
     "iopub.execute_input": "2022-04-10T06:14:58.982771Z",
     "iopub.status.busy": "2022-04-10T06:14:58.982042Z",
     "iopub.status.idle": "2022-04-10T06:14:58.986661Z",
     "shell.execute_reply": "2022-04-10T06:14:58.986077Z",
     "shell.execute_reply.started": "2022-02-21T14:21:43.448521Z"
    },
    "papermill": {
     "duration": 0.021077,
     "end_time": "2022-04-10T06:14:58.986816",
     "exception": false,
     "start_time": "2022-04-10T06:14:58.965739",
     "status": "completed"
    },
    "tags": []
   },
   "outputs": [],
   "source": [
    "from sklearn.model_selection import GridSearchCV\n",
    "\n",
    "# svr = svm.SVR()\n",
    "\n",
    "# param_grid= {'kernel': ['linear', 'poly', 'sigmoid', 'rbf'],\n",
    "#              'tol': [1e-3],\n",
    "#              'epsilon': [0.1,0.2,0.3, 0.05, 0.4,0.5,0.6,0.7,1.0,5.0,10.0,20.0 ],\n",
    "#              'gamma': ['scale']\n",
    "#             }\n",
    "\n",
    "# search_svr = GridSearchCV(svr, param_grid=param_grid, cv= 5, verbose = True, n_jobs=-1, scoring = 'neg_root_mean_squared_error')\n",
    "# best_perf = search_svr.fit(X_train, y_train)\n",
    "# performance(best_perf, 'Support Vector Regression')"
   ]
  },
  {
   "cell_type": "markdown",
   "id": "e83d8721",
   "metadata": {
    "papermill": {
     "duration": 0.013144,
     "end_time": "2022-04-10T06:14:59.013563",
     "exception": false,
     "start_time": "2022-04-10T06:14:59.000419",
     "status": "completed"
    },
    "tags": []
   },
   "source": [
    "Fitting 5 folds for each of 48 candidates, totalling 240 fits<br>\n",
    "[Parallel(n_jobs=-1)]: Using backend LokyBackend with 4 concurrent workers.<br>\n",
    "[Parallel(n_jobs=-1)]: Done  42 tasks      | elapsed:   13.7s<br>\n",
    "[Parallel(n_jobs=-1)]: Done 192 tasks      | elapsed:   51.6s<br>\n",
    "[Parallel(n_jobs=-1)]: Done 240 out of 240 | elapsed:  1.1min finished<br>\n",
    "Support Vector Regression<br>\n",
    "Best Score: -74890.33216153785<br>\n",
    "Best Parameters: {'epsilon': 20.0, 'gamma': 'scale', 'kernel': 'linear', 'tol': 0.001}<br>"
   ]
  },
  {
   "cell_type": "code",
   "execution_count": 11,
   "id": "9132eccb",
   "metadata": {
    "execution": {
     "iopub.execute_input": "2022-04-10T06:14:59.046316Z",
     "iopub.status.busy": "2022-04-10T06:14:59.045412Z",
     "iopub.status.idle": "2022-04-10T06:14:59.047585Z",
     "shell.execute_reply": "2022-04-10T06:14:59.048034Z",
     "shell.execute_reply.started": "2022-02-21T14:21:43.460892Z"
    },
    "papermill": {
     "duration": 0.021191,
     "end_time": "2022-04-10T06:14:59.048229",
     "exception": false,
     "start_time": "2022-04-10T06:14:59.027038",
     "status": "completed"
    },
    "tags": []
   },
   "outputs": [],
   "source": [
    "# GBR = GradientBoostingRegressor()\n",
    "# param_grid= {'learning_rate': [0.05],\n",
    "#              'n_estimators' : [1000 ],\n",
    "#              'subsample': [1.0],\n",
    "#              'max_features': ['sqrt'],\n",
    "#              'max_depth': [1,2,3,4,5,6,7,8,9,10]\n",
    "#             }\n",
    "\n",
    "# search_GBR = GridSearchCV(GBR, param_grid=param_grid, cv=5, verbose=True, n_jobs=-1, scoring ='neg_root_mean_squared_error' )\n",
    "# best_perf = search_GBR.fit(X_train, y_train)\n",
    "# performance(best_perf, 'Gradient Boosting Regressor')"
   ]
  },
  {
   "cell_type": "markdown",
   "id": "0863f801",
   "metadata": {
    "papermill": {
     "duration": 0.013002,
     "end_time": "2022-04-10T06:14:59.074902",
     "exception": false,
     "start_time": "2022-04-10T06:14:59.061900",
     "status": "completed"
    },
    "tags": []
   },
   "source": [
    "Gradient Boosting Regressor<br>\n",
    "Best Score: -25194.760742077844<br>\n",
    "Best Parameters: {'learning_rate': 0.05, 'max_features': 'sqrt', 'n_estimators': 1000,subsample': 1.0, 'max_depth': 3}<br>"
   ]
  },
  {
   "cell_type": "code",
   "execution_count": 12,
   "id": "1d81530a",
   "metadata": {
    "execution": {
     "iopub.execute_input": "2022-04-10T06:14:59.113103Z",
     "iopub.status.busy": "2022-04-10T06:14:59.111360Z",
     "iopub.status.idle": "2022-04-10T06:15:05.357407Z",
     "shell.execute_reply": "2022-04-10T06:15:05.356645Z",
     "shell.execute_reply.started": "2022-02-21T14:21:43.47304Z"
    },
    "papermill": {
     "duration": 6.268513,
     "end_time": "2022-04-10T06:15:05.357583",
     "exception": false,
     "start_time": "2022-04-10T06:14:59.089070",
     "status": "completed"
    },
    "tags": []
   },
   "outputs": [
    {
     "name": "stdout",
     "output_type": "stream",
     "text": [
      "[-21021.37410632 -32174.30186133 -26072.44434707 -20246.12021164\n",
      " -29849.86585703]\n",
      "-25872.82127668037\n"
     ]
    }
   ],
   "source": [
    "\n",
    "GBR = make_pipeline(StandardScaler(),\\\n",
    "                    GradientBoostingRegressor(n_estimators = 1000,subsample = 1.0,\\\n",
    "                                              learning_rate =0.05, max_depth =3 , \\\n",
    "                                              random_state =0, max_features= 'sqrt'))\n",
    "\n",
    "# 'neg_root_mean_squared_error'\n",
    "\n",
    "cv = cross_val_score(GBR, X_train, y_train, cv=5, scoring = 'neg_root_mean_squared_error')\n",
    "print(cv)\n",
    "print(cv.mean()) \n",
    "\n",
    "\n",
    "GBR.fit(X_train,y_train)\n",
    "\n",
    "predictions = GBR.predict(X_test)\n",
    "\n",
    "output = pd.DataFrame({'Id': X_test.Id, 'SalePrice': predictions})\n",
    "output.to_csv('submission.csv', index=False)"
   ]
  }
 ],
 "metadata": {
  "kernelspec": {
   "display_name": "Python 3",
   "language": "python",
   "name": "python3"
  },
  "language_info": {
   "codemirror_mode": {
    "name": "ipython",
    "version": 3
   },
   "file_extension": ".py",
   "mimetype": "text/x-python",
   "name": "python",
   "nbconvert_exporter": "python",
   "pygments_lexer": "ipython3",
   "version": "3.7.12"
  },
  "papermill": {
   "default_parameters": {},
   "duration": 20.632817,
   "end_time": "2022-04-10T06:15:06.386092",
   "environment_variables": {},
   "exception": null,
   "input_path": "__notebook__.ipynb",
   "output_path": "__notebook__.ipynb",
   "parameters": {},
   "start_time": "2022-04-10T06:14:45.753275",
   "version": "2.3.3"
  }
 },
 "nbformat": 4,
 "nbformat_minor": 5
}
